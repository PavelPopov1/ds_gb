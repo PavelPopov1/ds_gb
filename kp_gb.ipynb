{
 "cells": [
  {
   "cell_type": "code",
   "execution_count": 1,
   "metadata": {
    "collapsed": true
   },
   "outputs": [],
   "source": [
    "import numpy as np # linear algebra\n",
    "import pandas as pd # data processing, CSV file I/O (e.g. pd.read_csv)"
   ]
  },
  {
   "cell_type": "markdown",
   "source": [
    "##### Скачивание данных для работы"
   ],
   "metadata": {
    "collapsed": false
   }
  },
  {
   "cell_type": "code",
   "execution_count": 2,
   "outputs": [],
   "source": [
    "df_train = pd.read_csv(\"train.csv\", sep=\",\", index_col=\"Id\")\n",
    "df_test = pd.read_csv(\"test.csv\", sep=\",\", index_col=\"Id\")"
   ],
   "metadata": {
    "collapsed": false,
    "pycharm": {
     "name": "#%%\n"
    }
   }
  },
  {
   "cell_type": "markdown",
   "source": [
    "##### Обработка пустых значений"
   ],
   "metadata": {
    "collapsed": false
   }
  },
  {
   "cell_type": "code",
   "execution_count": 3,
   "outputs": [],
   "source": [
    "medians = df_train[[\"LifeSquare\", \"Healthcare_1\"]].median()\n",
    "df_train[[\"LifeSquare\", \"Healthcare_1\"]] = df_train[[\"LifeSquare\", \"Healthcare_1\"]].fillna(medians)\n",
    "df_test[[\"LifeSquare\", \"Healthcare_1\"]] = df_test[[\"LifeSquare\", \"Healthcare_1\"]].fillna(medians)"
   ],
   "metadata": {
    "collapsed": false,
    "pycharm": {
     "name": "#%%\n"
    }
   }
  },
  {
   "cell_type": "markdown",
   "source": [
    "##### Визуализация данных цены"
   ],
   "metadata": {
    "collapsed": false,
    "pycharm": {
     "name": "#%% md\n"
    }
   }
  },
  {
   "cell_type": "code",
   "execution_count": 4,
   "outputs": [
    {
     "data": {
      "text/plain": "<Figure size 1152x576 with 1 Axes>",
      "image/png": "[encoded data removed]"
     },
     "metadata": {
      "needs_background": "light"
     },
     "output_type": "display_data"
    }
   ],
   "source": [
    "import matplotlib.pyplot as plt\n",
    "\n",
    "plt.figure(figsize = (16, 8))\n",
    "\n",
    "df_train['Price'].hist(bins=30)\n",
    "plt.ylabel('Count')\n",
    "plt.xlabel('Price')\n",
    "\n",
    "plt.title('Target distribution')\n",
    "plt.show()"
   ],
   "metadata": {
    "collapsed": false,
    "pycharm": {
     "name": "#%%\n"
    }
   }
  },
  {
   "cell_type": "markdown",
   "source": [
    "##### Построение модели случайного леса"
   ],
   "metadata": {
    "collapsed": false,
    "pycharm": {
     "name": "#%% md\n"
    }
   }
  },
  {
   "cell_type": "code",
   "execution_count": 5,
   "outputs": [],
   "source": [
    "from sklearn.ensemble import RandomForestRegressor\n",
    "from sklearn.model_selection import train_test_split\n",
    "\n",
    "model = RandomForestRegressor(n_estimators=1000, max_depth=12,\n",
    "                              random_state=101)\n",
    "\n",
    "x_train, x_test, y_train, y_test = train_test_split(df_train.loc[:, df_train.columns != \"Price\"], df_train[\"Price\"],\n",
    "                                                    test_size=0.3, random_state=56)"
   ],
   "metadata": {
    "collapsed": false,
    "pycharm": {
     "name": "#%%\n"
    }
   }
  },
  {
   "cell_type": "markdown",
   "source": [
    "##### Обработка выбросов и бинаризация некоторых выбросов"
   ],
   "metadata": {
    "collapsed": false,
    "pycharm": {
     "name": "#%% md\n"
    }
   }
  },
  {
   "cell_type": "code",
   "execution_count": 6,
   "outputs": [],
   "source": [
    "x_train.loc[(df_train[\"HouseYear\"] > 2021) | (df_train[\"HouseYear\"] < 1500), [\"HouseYear\"]] = df_train[\"HouseYear\"].median()\n",
    "\n",
    "x_train.loc[(df_train[\"Rooms\"] > 10000) | (df_train[\"Rooms\"] < 1), [\"Rooms\"]] = df_train[\"Rooms\"].median()\n",
    "\n",
    "x_train.loc[df_train[\"Social_3\"] > 10, [\"Social_3\"]] = df_train[\"Social_3\"].mode().values[0]\n",
    "\n",
    "x_train.loc[df_train[\"Ecology_2\"] == \"A\", [\"Ecology_2_num\"]] = 0\n",
    "x_train.loc[df_train[\"Ecology_2\"] == \"B\", [\"Ecology_2_num\"]] = 1\n",
    "df_test.loc[df_test[\"Ecology_2\"] == \"B\", [\"Ecology_2_num\"]] = 1\n",
    "df_test.loc[df_test[\"Ecology_2\"] == \"A\", [\"Ecology_2_num\"]] = 0\n",
    "x_test.loc[x_test[\"Ecology_2\"] == \"B\", [\"Ecology_2_num\"]] = 1\n",
    "x_test.loc[x_test[\"Ecology_2\"] == \"A\", [\"Ecology_2_num\"]] = 0\n",
    "\n",
    "x_train.loc[df_train[\"Ecology_3\"] == \"A\", [\"Ecology_3_num\"]] = 0\n",
    "x_train.loc[df_train[\"Ecology_3\"] == \"B\", [\"Ecology_3_num\"]] = 1\n",
    "df_test.loc[df_test[\"Ecology_3\"] == \"A\", [\"Ecology_3_num\"]] = 0\n",
    "df_test.loc[df_test[\"Ecology_3\"] == \"B\", [\"Ecology_3_num\"]] = 1\n",
    "x_test.loc[x_test[\"Ecology_3\"] == \"B\", [\"Ecology_3_num\"]] = 1\n",
    "x_test.loc[x_test[\"Ecology_3\"] == \"A\", [\"Ecology_3_num\"]] = 0\n",
    "\n",
    "x_train.loc[df_train[\"Shops_2\"] == \"A\", [\"Shops_2_num\"]] = 0\n",
    "x_train.loc[df_train[\"Shops_2\"] == \"B\", [\"Shops_2_num\"]] = 1\n",
    "df_test.loc[df_test[\"Shops_2\"] == \"A\", [\"Shops_2_num\"]] = 0\n",
    "df_test.loc[df_test[\"Shops_2\"] == \"B\", [\"Shops_2_num\"]] = 1\n",
    "x_test.loc[x_test[\"Shops_2\"] == \"A\", [\"Shops_2_num\"]] = 0\n",
    "x_test.loc[x_test[\"Shops_2\"] == \"B\", [\"Shops_2_num\"]] = 1\n",
    "\n",
    "\n",
    "x_train.drop(columns=[\"Ecology_2\", \"Ecology_3\", \"Shops_2\"], inplace=True)\n",
    "df_test.drop(columns=[\"Ecology_2\", \"Ecology_3\", \"Shops_2\"], inplace=True)\n",
    "x_test.drop(columns=[\"Ecology_2\", \"Ecology_3\", \"Shops_2\"], inplace=True)"
   ],
   "metadata": {
    "collapsed": false,
    "pycharm": {
     "name": "#%%\n"
    }
   }
  },
  {
   "cell_type": "markdown",
   "source": [
    "##### Обучение модули случайного леса"
   ],
   "metadata": {
    "collapsed": false,
    "pycharm": {
     "name": "#%% md\n"
    }
   }
  },
  {
   "cell_type": "code",
   "execution_count": 7,
   "outputs": [
    {
     "data": {
      "text/plain": "RandomForestRegressor(max_depth=12, n_estimators=1000, random_state=101)"
     },
     "execution_count": 7,
     "metadata": {},
     "output_type": "execute_result"
    }
   ],
   "source": [
    "model.fit(x_train, y_train.to_numpy().flatten())"
   ],
   "metadata": {
    "collapsed": false,
    "pycharm": {
     "name": "#%%\n"
    }
   }
  },
  {
   "cell_type": "markdown",
   "source": [
    "##### Предсказание модели случайного леса"
   ],
   "metadata": {
    "collapsed": false,
    "pycharm": {
     "name": "#%% md\n"
    }
   }
  },
  {
   "cell_type": "code",
   "execution_count": 8,
   "outputs": [
    {
     "data": {
      "text/plain": "array([182366.68796257, 188853.1498193 , 154789.20415534, ...,\n       255166.30980984, 131681.64730654, 196366.09966051])"
     },
     "execution_count": 8,
     "metadata": {},
     "output_type": "execute_result"
    }
   ],
   "source": [
    "y_pred = model.predict(x_test)\n",
    "y_pred"
   ],
   "metadata": {
    "collapsed": false,
    "pycharm": {
     "name": "#%%\n"
    }
   }
  },
  {
   "cell_type": "markdown",
   "source": [
    "##### Просчет метрики качества R2"
   ],
   "metadata": {
    "collapsed": false
   }
  },
  {
   "cell_type": "code",
   "execution_count": 9,
   "outputs": [
    {
     "data": {
      "text/plain": "0.7359287199204243"
     },
     "execution_count": 9,
     "metadata": {},
     "output_type": "execute_result"
    }
   ],
   "source": [
    "from sklearn.metrics import r2_score\n",
    "\n",
    "r2_score(y_test, y_pred)"
   ],
   "metadata": {
    "collapsed": false,
    "pycharm": {
     "name": "#%%\n"
    }
   }
  },
  {
   "cell_type": "markdown",
   "source": [
    "##### Визуальная проверка"
   ],
   "metadata": {
    "collapsed": false
   }
  },
  {
   "cell_type": "code",
   "execution_count": 10,
   "outputs": [
    {
     "data": {
      "text/plain": "                true           pred\nId                                 \n14484  181281.662984  182366.687963\n4748   166394.254918  188853.149819\n8934   183991.329682  154789.204155\n2970    86504.503046  190074.541868\n15223  188805.788472  177732.430136",
      "text/html": "<div>\n<style scoped>\n    .dataframe tbody tr th:only-of-type {\n        vertical-align: middle;\n    }\n\n    .dataframe tbody tr th {\n        vertical-align: top;\n    }\n\n    .dataframe thead th {\n        text-align: right;\n    }\n</style>\n<table border=\"1\" class=\"dataframe\">\n  <thead>\n    <tr style=\"text-align: right;\">\n      <th></th>\n      <th>true</th>\n      <th>pred</th>\n    </tr>\n    <tr>\n      <th>Id</th>\n      <th></th>\n      <th></th>\n    </tr>\n  </thead>\n  <tbody>\n    <tr>\n      <th>14484</th>\n      <td>181281.662984</td>\n      <td>182366.687963</td>\n    </tr>\n    <tr>\n      <th>4748</th>\n      <td>166394.254918</td>\n      <td>188853.149819</td>\n    </tr>\n    <tr>\n      <th>8934</th>\n      <td>183991.329682</td>\n      <td>154789.204155</td>\n    </tr>\n    <tr>\n      <th>2970</th>\n      <td>86504.503046</td>\n      <td>190074.541868</td>\n    </tr>\n    <tr>\n      <th>15223</th>\n      <td>188805.788472</td>\n      <td>177732.430136</td>\n    </tr>\n  </tbody>\n</table>\n</div>"
     },
     "execution_count": 10,
     "metadata": {},
     "output_type": "execute_result"
    }
   ],
   "source": [
    "df_eq = pd.DataFrame({'true': y_test, 'pred': y_pred})\n",
    "df_eq.head()"
   ],
   "metadata": {
    "collapsed": false,
    "pycharm": {
     "name": "#%%\n"
    }
   }
  },
  {
   "cell_type": "markdown",
   "source": [
    "##### Составление модели регрессора бустинга"
   ],
   "metadata": {
    "collapsed": false
   }
  },
  {
   "cell_type": "code",
   "execution_count": 11,
   "outputs": [],
   "source": [
    "from sklearn.ensemble import GradientBoostingRegressor\n",
    "\n",
    "params = {'n_estimators': 500,\n",
    "          'max_depth': 4,\n",
    "          'min_samples_split': 5,\n",
    "          'learning_rate': 0.01,\n",
    "          'loss': 'ls',\n",
    "          \"random_state\": 101}\n",
    "\n",
    "reg = GradientBoostingRegressor(**params)\n",
    "\n",
    "reg.fit(x_train, y_train)\n",
    "\n",
    "y_bust_pred = reg.predict(x_test)\n"
   ],
   "metadata": {
    "collapsed": false,
    "pycharm": {
     "name": "#%%\n"
    }
   }
  },
  {
   "cell_type": "markdown",
   "source": [
    "##### Оценка каества работы модели регрессора бустинга"
   ],
   "metadata": {
    "collapsed": false
   }
  },
  {
   "cell_type": "code",
   "execution_count": 12,
   "outputs": [
    {
     "data": {
      "text/plain": "0.7139644449542426"
     },
     "execution_count": 12,
     "metadata": {},
     "output_type": "execute_result"
    }
   ],
   "source": [
    "r2_score(y_test, y_bust_pred)"
   ],
   "metadata": {
    "collapsed": false,
    "pycharm": {
     "name": "#%%\n"
    }
   }
  },
  {
   "cell_type": "markdown",
   "source": [
    "##### Предсказание тестового набора данных и выгрузка данных в excel"
   ],
   "metadata": {
    "collapsed": false
   }
  },
  {
   "cell_type": "code",
   "execution_count": 13,
   "outputs": [],
   "source": [
    "df_predict = model.predict(df_test)"
   ],
   "metadata": {
    "collapsed": false,
    "pycharm": {
     "name": "#%%\n"
    }
   }
  },
  {
   "cell_type": "code",
   "execution_count": 14,
   "outputs": [],
   "source": [
    "pd.DataFrame({\"Id\": df_test.index.values, \"Price\": df_predict}).to_csv(\"predict_price.csv\", sep=\",\", index=False)\n"
   ],
   "metadata": {
    "collapsed": false,
    "pycharm": {
     "name": "#%%\n"
    }
   }
  }
 ],
 "metadata": {
  "kernelspec": {
   "display_name": "Python 3",
   "language": "python",
   "name": "python3"
  },
  "language_info": {
   "codemirror_mode": {
    "name": "ipython",
    "version": 2
   },
   "file_extension": ".py",
   "mimetype": "text/x-python",
   "name": "python",
   "nbconvert_exporter": "python",
   "pygments_lexer": "ipython2",
   "version": "2.7.6"
  }
 },
 "nbformat": 4,
 "nbformat_minor": 0
}